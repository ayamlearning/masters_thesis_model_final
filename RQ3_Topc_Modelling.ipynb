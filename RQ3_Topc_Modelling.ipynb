{
 "cells": [
  {
   "cell_type": "code",
   "execution_count": 1,
   "id": "da2b7581",
   "metadata": {},
   "outputs": [],
   "source": [
    "import pandas as pd\n",
    "import time\n",
    "from matplotlib import pyplot as plt\n",
    "from datetime import datetime"
   ]
  },
  {
   "cell_type": "code",
   "execution_count": 2,
   "id": "b580210f",
   "metadata": {},
   "outputs": [],
   "source": [
    "def save(df):\n",
    "    ts = int(time.time())\n",
    "    df.to_excel(\"./files/{}.xlsx\".format(ts))\n",
    "    print(str(ts)+\".xlsx has been saved\")"
   ]
  },
  {
   "cell_type": "code",
   "execution_count": 3,
   "id": "a2476f63",
   "metadata": {},
   "outputs": [
    {
     "name": "stdout",
     "output_type": "stream",
     "text": [
      "(21098, 33)\n"
     ]
    }
   ],
   "source": [
    "df = pd.read_csv(\"./data/sample.csv\",delimiter=\",\",dtype=str)\n",
    "print(df.shape)"
   ]
  },
  {
   "cell_type": "code",
   "execution_count": null,
   "id": "f38c988a",
   "metadata": {},
   "outputs": [
    {
     "name": "stdout",
     "output_type": "stream",
     "text": [
      "Collecting bertopic\n",
      "  Using cached bertopic-0.15.0-py2.py3-none-any.whl (143 kB)\n",
      "Requirement already satisfied: plotly>=4.7.0 in /home/ayamlearning/anaconda3/lib/python3.10/site-packages (from bertopic) (5.9.0)\n",
      "Collecting umap-learn>=0.5.0\n",
      "  Using cached umap_learn-0.5.4-py3-none-any.whl\n",
      "Requirement already satisfied: numpy>=1.20.0 in /home/ayamlearning/anaconda3/lib/python3.10/site-packages (from bertopic) (1.23.5)\n",
      "Requirement already satisfied: tqdm>=4.41.1 in /home/ayamlearning/anaconda3/lib/python3.10/site-packages (from bertopic) (4.64.1)\n",
      "Collecting sentence-transformers>=0.4.1\n",
      "  Using cached sentence_transformers-2.2.2-py3-none-any.whl\n",
      "Requirement already satisfied: scikit-learn>=0.22.2.post1 in /home/ayamlearning/anaconda3/lib/python3.10/site-packages (from bertopic) (1.2.1)\n",
      "Collecting hdbscan>=0.8.29\n",
      "  Using cached hdbscan-0.8.33-cp310-cp310-linux_x86_64.whl\n",
      "Requirement already satisfied: pandas>=1.1.5 in /home/ayamlearning/anaconda3/lib/python3.10/site-packages (from bertopic) (1.5.3)\n",
      "Collecting cython<3,>=0.27\n",
      "  Using cached Cython-0.29.36-cp310-cp310-manylinux_2_17_x86_64.manylinux2014_x86_64.manylinux_2_24_x86_64.whl (1.9 MB)\n",
      "Requirement already satisfied: joblib>=1.0 in /home/ayamlearning/anaconda3/lib/python3.10/site-packages (from hdbscan>=0.8.29->bertopic) (1.1.1)\n",
      "Requirement already satisfied: scipy>=1.0 in /home/ayamlearning/anaconda3/lib/python3.10/site-packages (from hdbscan>=0.8.29->bertopic) (1.10.0)\n",
      "Requirement already satisfied: python-dateutil>=2.8.1 in /home/ayamlearning/anaconda3/lib/python3.10/site-packages (from pandas>=1.1.5->bertopic) (2.8.2)\n",
      "Requirement already satisfied: pytz>=2020.1 in /home/ayamlearning/anaconda3/lib/python3.10/site-packages (from pandas>=1.1.5->bertopic) (2022.7)\n",
      "Requirement already satisfied: tenacity>=6.2.0 in /home/ayamlearning/anaconda3/lib/python3.10/site-packages (from plotly>=4.7.0->bertopic) (8.0.1)\n",
      "Requirement already satisfied: threadpoolctl>=2.0.0 in /home/ayamlearning/anaconda3/lib/python3.10/site-packages (from scikit-learn>=0.22.2.post1->bertopic) (2.2.0)\n",
      "Requirement already satisfied: huggingface-hub>=0.4.0 in /home/ayamlearning/anaconda3/lib/python3.10/site-packages (from sentence-transformers>=0.4.1->bertopic) (0.10.1)\n",
      "Collecting sentencepiece\n",
      "  Using cached sentencepiece-0.1.99-cp310-cp310-manylinux_2_17_x86_64.manylinux2014_x86_64.whl (1.3 MB)\n",
      "Requirement already satisfied: transformers<5.0.0,>=4.6.0 in /home/ayamlearning/anaconda3/lib/python3.10/site-packages (from sentence-transformers>=0.4.1->bertopic) (4.24.0)\n",
      "Collecting torchvision\n",
      "  Using cached torchvision-0.16.0-cp310-cp310-manylinux1_x86_64.whl (6.9 MB)\n",
      "Requirement already satisfied: torch>=1.6.0 in /home/ayamlearning/anaconda3/lib/python3.10/site-packages (from sentence-transformers>=0.4.1->bertopic) (1.12.1)\n",
      "Requirement already satisfied: nltk in /home/ayamlearning/anaconda3/lib/python3.10/site-packages (from sentence-transformers>=0.4.1->bertopic) (3.7)\n",
      "Collecting tbb>=2019.0\n",
      "  Using cached tbb-2021.10.0-py2.py3-none-manylinux1_x86_64.whl (4.4 MB)\n",
      "Collecting pynndescent>=0.5\n",
      "  Using cached pynndescent-0.5.10-py3-none-any.whl\n",
      "Requirement already satisfied: numba>=0.51.2 in /home/ayamlearning/anaconda3/lib/python3.10/site-packages (from umap-learn>=0.5.0->bertopic) (0.56.4)\n",
      "Requirement already satisfied: requests in /home/ayamlearning/anaconda3/lib/python3.10/site-packages (from huggingface-hub>=0.4.0->sentence-transformers>=0.4.1->bertopic) (2.28.1)\n",
      "Requirement already satisfied: typing-extensions>=3.7.4.3 in /home/ayamlearning/anaconda3/lib/python3.10/site-packages (from huggingface-hub>=0.4.0->sentence-transformers>=0.4.1->bertopic) (4.4.0)\n",
      "Requirement already satisfied: pyyaml>=5.1 in /home/ayamlearning/anaconda3/lib/python3.10/site-packages (from huggingface-hub>=0.4.0->sentence-transformers>=0.4.1->bertopic) (6.0)\n",
      "Requirement already satisfied: filelock in /home/ayamlearning/anaconda3/lib/python3.10/site-packages (from huggingface-hub>=0.4.0->sentence-transformers>=0.4.1->bertopic) (3.12.4)\n",
      "Requirement already satisfied: packaging>=20.9 in /home/ayamlearning/anaconda3/lib/python3.10/site-packages (from huggingface-hub>=0.4.0->sentence-transformers>=0.4.1->bertopic) (22.0)\n",
      "Requirement already satisfied: setuptools in /home/ayamlearning/anaconda3/lib/python3.10/site-packages (from numba>=0.51.2->umap-learn>=0.5.0->bertopic) (68.2.2)\n",
      "Requirement already satisfied: llvmlite<0.40,>=0.39.0dev0 in /home/ayamlearning/anaconda3/lib/python3.10/site-packages (from numba>=0.51.2->umap-learn>=0.5.0->bertopic) (0.39.1)\n",
      "Requirement already satisfied: six>=1.5 in /home/ayamlearning/anaconda3/lib/python3.10/site-packages (from python-dateutil>=2.8.1->pandas>=1.1.5->bertopic) (1.16.0)\n",
      "Requirement already satisfied: tokenizers!=0.11.3,<0.14,>=0.11.1 in /home/ayamlearning/anaconda3/lib/python3.10/site-packages (from transformers<5.0.0,>=4.6.0->sentence-transformers>=0.4.1->bertopic) (0.11.4)\n",
      "Requirement already satisfied: regex!=2019.12.17 in /home/ayamlearning/anaconda3/lib/python3.10/site-packages (from transformers<5.0.0,>=4.6.0->sentence-transformers>=0.4.1->bertopic) (2022.7.9)\n",
      "Requirement already satisfied: click in /home/ayamlearning/anaconda3/lib/python3.10/site-packages (from nltk->sentence-transformers>=0.4.1->bertopic) (8.0.4)\n",
      "Collecting torch>=1.6.0\n",
      "  Using cached torch-2.1.0-cp310-cp310-manylinux1_x86_64.whl (670.2 MB)\n",
      "Requirement already satisfied: pillow!=8.3.*,>=5.3.0 in /home/ayamlearning/anaconda3/lib/python3.10/site-packages (from torchvision->sentence-transformers>=0.4.1->bertopic) (9.4.0)\n",
      "Collecting nvidia-nvtx-cu12==12.1.105\n",
      "  Using cached nvidia_nvtx_cu12-12.1.105-py3-none-manylinux1_x86_64.whl (99 kB)\n",
      "Collecting triton==2.1.0\n",
      "  Using cached triton-2.1.0-0-cp310-cp310-manylinux2014_x86_64.manylinux_2_17_x86_64.whl (89.2 MB)\n",
      "Requirement already satisfied: fsspec in /home/ayamlearning/anaconda3/lib/python3.10/site-packages (from torch>=1.6.0->sentence-transformers>=0.4.1->bertopic) (2022.11.0)\n",
      "Collecting nvidia-cuda-runtime-cu12==12.1.105\n",
      "  Using cached nvidia_cuda_runtime_cu12-12.1.105-py3-none-manylinux1_x86_64.whl (823 kB)\n",
      "Collecting nvidia-cusparse-cu12==12.1.0.106\n",
      "  Using cached nvidia_cusparse_cu12-12.1.0.106-py3-none-manylinux1_x86_64.whl (196.0 MB)\n",
      "Collecting nvidia-nccl-cu12==2.18.1\n",
      "  Using cached nvidia_nccl_cu12-2.18.1-py3-none-manylinux1_x86_64.whl (209.8 MB)\n",
      "Collecting nvidia-cudnn-cu12==8.9.2.26\n",
      "  Using cached nvidia_cudnn_cu12-8.9.2.26-py3-none-manylinux1_x86_64.whl (731.7 MB)\n",
      "Collecting nvidia-cusolver-cu12==11.4.5.107\n",
      "  Using cached nvidia_cusolver_cu12-11.4.5.107-py3-none-manylinux1_x86_64.whl (124.2 MB)\n",
      "Requirement already satisfied: networkx in /home/ayamlearning/anaconda3/lib/python3.10/site-packages (from torch>=1.6.0->sentence-transformers>=0.4.1->bertopic) (2.8.4)\n",
      "Collecting nvidia-cublas-cu12==12.1.3.1\n",
      "  Using cached nvidia_cublas_cu12-12.1.3.1-py3-none-manylinux1_x86_64.whl (410.6 MB)\n",
      "Requirement already satisfied: sympy in /home/ayamlearning/anaconda3/lib/python3.10/site-packages (from torch>=1.6.0->sentence-transformers>=0.4.1->bertopic) (1.11.1)\n",
      "Collecting nvidia-cuda-cupti-cu12==12.1.105\n",
      "  Using cached nvidia_cuda_cupti_cu12-12.1.105-py3-none-manylinux1_x86_64.whl (14.1 MB)\n",
      "Collecting nvidia-cufft-cu12==11.0.2.54\n",
      "  Using cached nvidia_cufft_cu12-11.0.2.54-py3-none-manylinux1_x86_64.whl (121.6 MB)\n",
      "Requirement already satisfied: jinja2 in /home/ayamlearning/anaconda3/lib/python3.10/site-packages (from torch>=1.6.0->sentence-transformers>=0.4.1->bertopic) (3.1.2)\n",
      "Collecting nvidia-curand-cu12==10.3.2.106\n",
      "  Using cached nvidia_curand_cu12-10.3.2.106-py3-none-manylinux1_x86_64.whl (56.5 MB)\n"
     ]
    }
   ],
   "source": [
    "!pip install bertopic"
   ]
  },
  {
   "cell_type": "code",
   "execution_count": null,
   "id": "db857b47",
   "metadata": {},
   "outputs": [],
   "source": []
  }
 ],
 "metadata": {
  "kernelspec": {
   "display_name": "Python 3 (ipykernel)",
   "language": "python",
   "name": "python3"
  },
  "language_info": {
   "codemirror_mode": {
    "name": "ipython",
    "version": 3
   },
   "file_extension": ".py",
   "mimetype": "text/x-python",
   "name": "python",
   "nbconvert_exporter": "python",
   "pygments_lexer": "ipython3",
   "version": "3.10.9"
  }
 },
 "nbformat": 4,
 "nbformat_minor": 5
}
