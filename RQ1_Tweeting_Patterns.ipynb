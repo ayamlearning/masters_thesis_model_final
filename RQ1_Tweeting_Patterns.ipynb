{
 "cells": [
  {
   "cell_type": "code",
   "execution_count": 1,
   "id": "58f9e495",
   "metadata": {},
   "outputs": [],
   "source": [
    "import pandas as pd\n",
    "import time\n",
    "from matplotlib import pyplot as plt\n",
    "from datetime import datetime"
   ]
  },
  {
   "cell_type": "code",
   "execution_count": 2,
   "id": "4631a14a",
   "metadata": {},
   "outputs": [],
   "source": [
    "def save(df):\n",
    "    ts = int(time.time())\n",
    "    df.to_excel(\"./files/{}.xlsx\".format(ts))\n",
    "    print(str(ts)+\".xlsx has been saved\")"
   ]
  },
  {
   "cell_type": "code",
   "execution_count": 3,
   "id": "0cbead52",
   "metadata": {},
   "outputs": [
    {
     "name": "stdout",
     "output_type": "stream",
     "text": [
      "(21098, 33)\n"
     ]
    }
   ],
   "source": [
    "df = pd.read_csv(\"./data/sample.csv\",delimiter=\",\",dtype=str)\n",
    "print(df.shape)"
   ]
  },
  {
   "cell_type": "code",
   "execution_count": 4,
   "id": "dcaa24f6",
   "metadata": {},
   "outputs": [
    {
     "data": {
      "text/plain": [
       "Index(['id', 'tweet_id', 'username', 'followers_count', 'user_verified',\n",
       "       'text', 'created_at', 'like_count', 'retweet_count', 'reply_count',\n",
       "       'location', 'lang', 'generation', 'ass_hashtags', 'keyword_exists',\n",
       "       'prep_text', 'year', 'month', 'day', 'week', 'time', 'hour', 'minute',\n",
       "       'vader_polarity', 'bert_polarity', 'date', 'city', 'district',\n",
       "       'province', 'country', 'quater', 'weekday', 'tweet_lang'],\n",
       "      dtype='object')"
      ]
     },
     "execution_count": 4,
     "metadata": {},
     "output_type": "execute_result"
    }
   ],
   "source": [
    "df.columns"
   ]
  },
  {
   "cell_type": "code",
   "execution_count": 5,
   "id": "1c22f6e4",
   "metadata": {},
   "outputs": [
    {
     "data": {
      "text/html": [
       "<div>\n",
       "<style scoped>\n",
       "    .dataframe tbody tr th:only-of-type {\n",
       "        vertical-align: middle;\n",
       "    }\n",
       "\n",
       "    .dataframe tbody tr th {\n",
       "        vertical-align: top;\n",
       "    }\n",
       "\n",
       "    .dataframe thead th {\n",
       "        text-align: right;\n",
       "    }\n",
       "</style>\n",
       "<table border=\"1\" class=\"dataframe\">\n",
       "  <thead>\n",
       "    <tr style=\"text-align: right;\">\n",
       "      <th></th>\n",
       "      <th>year</th>\n",
       "      <th>week</th>\n",
       "    </tr>\n",
       "  </thead>\n",
       "  <tbody>\n",
       "    <tr>\n",
       "      <th>1459</th>\n",
       "      <td>2021</td>\n",
       "      <td>32.0</td>\n",
       "    </tr>\n",
       "    <tr>\n",
       "      <th>12710</th>\n",
       "      <td>2021</td>\n",
       "      <td>14.0</td>\n",
       "    </tr>\n",
       "    <tr>\n",
       "      <th>6954</th>\n",
       "      <td>2021</td>\n",
       "      <td>29.0</td>\n",
       "    </tr>\n",
       "    <tr>\n",
       "      <th>16359</th>\n",
       "      <td>2020</td>\n",
       "      <td>25.0</td>\n",
       "    </tr>\n",
       "    <tr>\n",
       "      <th>19103</th>\n",
       "      <td>2019</td>\n",
       "      <td>3.0</td>\n",
       "    </tr>\n",
       "  </tbody>\n",
       "</table>\n",
       "</div>"
      ],
      "text/plain": [
       "       year  week\n",
       "1459   2021  32.0\n",
       "12710  2021  14.0\n",
       "6954   2021  29.0\n",
       "16359  2020  25.0\n",
       "19103  2019   3.0"
      ]
     },
     "execution_count": 5,
     "metadata": {},
     "output_type": "execute_result"
    }
   ],
   "source": [
    "df[['year','week']].sample(5)"
   ]
  },
  {
   "cell_type": "code",
   "execution_count": 6,
   "id": "1610d7cf",
   "metadata": {},
   "outputs": [
    {
     "data": {
      "text/html": [
       "<div>\n",
       "<style scoped>\n",
       "    .dataframe tbody tr th:only-of-type {\n",
       "        vertical-align: middle;\n",
       "    }\n",
       "\n",
       "    .dataframe tbody tr th {\n",
       "        vertical-align: top;\n",
       "    }\n",
       "\n",
       "    .dataframe thead th {\n",
       "        text-align: right;\n",
       "    }\n",
       "</style>\n",
       "<table border=\"1\" class=\"dataframe\">\n",
       "  <thead>\n",
       "    <tr style=\"text-align: right;\">\n",
       "      <th></th>\n",
       "      <th>17973</th>\n",
       "      <th>4164</th>\n",
       "      <th>13454</th>\n",
       "      <th>16190</th>\n",
       "      <th>260</th>\n",
       "    </tr>\n",
       "  </thead>\n",
       "  <tbody>\n",
       "    <tr>\n",
       "      <th>id</th>\n",
       "      <td>69839</td>\n",
       "      <td>11533</td>\n",
       "      <td>64989</td>\n",
       "      <td>67883</td>\n",
       "      <td>11097</td>\n",
       "    </tr>\n",
       "    <tr>\n",
       "      <th>tweet_id</th>\n",
       "      <td>1219689849785143297</td>\n",
       "      <td>1424988939736264715</td>\n",
       "      <td>1357605294344462337</td>\n",
       "      <td>1280076329334030337</td>\n",
       "      <td>1425430886129020930</td>\n",
       "    </tr>\n",
       "    <tr>\n",
       "      <th>username</th>\n",
       "      <td>Peter_S_Becks94</td>\n",
       "      <td>HungryLionZM</td>\n",
       "      <td>RHaloba</td>\n",
       "      <td>MonicaEisenberg</td>\n",
       "      <td>AfricanLiberals</td>\n",
       "    </tr>\n",
       "    <tr>\n",
       "      <th>followers_count</th>\n",
       "      <td>1477.0</td>\n",
       "      <td>16023.0</td>\n",
       "      <td>129.0</td>\n",
       "      <td>10776.0</td>\n",
       "      <td>3437.0</td>\n",
       "    </tr>\n",
       "    <tr>\n",
       "      <th>user_verified</th>\n",
       "      <td>False</td>\n",
       "      <td>False</td>\n",
       "      <td>False</td>\n",
       "      <td>False</td>\n",
       "      <td>False</td>\n",
       "    </tr>\n",
       "    <tr>\n",
       "      <th>text</th>\n",
       "      <td>Opposition and independent MPs shouldn't move ...</td>\n",
       "      <td>Zed, where is your voting card? It's time to m...</td>\n",
       "      <td>@ZambiaElections @Mulenga09820858 Does the ins...</td>\n",
       "      <td>Commissioner of Prisons says Opposition partie...</td>\n",
       "      <td>Good luck to our #ALNmember, @UPNDZM under the...</td>\n",
       "    </tr>\n",
       "    <tr>\n",
       "      <th>created_at</th>\n",
       "      <td>2020-01-21 20:34:55+02:00</td>\n",
       "      <td>2021-08-10 09:00:12+02:00</td>\n",
       "      <td>2021-02-05 10:21:39+02:00</td>\n",
       "      <td>2020-07-06 11:49:14+02:00</td>\n",
       "      <td>2021-08-11 14:16:21+02</td>\n",
       "    </tr>\n",
       "    <tr>\n",
       "      <th>like_count</th>\n",
       "      <td>1.0</td>\n",
       "      <td>102.0</td>\n",
       "      <td>0.0</td>\n",
       "      <td>0.0</td>\n",
       "      <td>55.0</td>\n",
       "    </tr>\n",
       "    <tr>\n",
       "      <th>retweet_count</th>\n",
       "      <td>1.0</td>\n",
       "      <td>17.0</td>\n",
       "      <td>0.0</td>\n",
       "      <td>0.0</td>\n",
       "      <td>10.0</td>\n",
       "    </tr>\n",
       "    <tr>\n",
       "      <th>reply_count</th>\n",
       "      <td>0.0</td>\n",
       "      <td>9.0</td>\n",
       "      <td>1.0</td>\n",
       "      <td>0.0</td>\n",
       "      <td>1.0</td>\n",
       "    </tr>\n",
       "    <tr>\n",
       "      <th>location</th>\n",
       "      <td>Zambia</td>\n",
       "      <td>Zambia</td>\n",
       "      <td>Zambia</td>\n",
       "      <td>Nanno, Ville d'Anaunia, Comunità della Val di ...</td>\n",
       "      <td>Africa</td>\n",
       "    </tr>\n",
       "    <tr>\n",
       "      <th>lang</th>\n",
       "      <td>en</td>\n",
       "      <td>en</td>\n",
       "      <td>en</td>\n",
       "      <td>en</td>\n",
       "      <td>en</td>\n",
       "    </tr>\n",
       "    <tr>\n",
       "      <th>generation</th>\n",
       "      <td>1.0</td>\n",
       "      <td>1.0</td>\n",
       "      <td>1.0</td>\n",
       "      <td>1.0</td>\n",
       "      <td>1.0</td>\n",
       "    </tr>\n",
       "    <tr>\n",
       "      <th>ass_hashtags</th>\n",
       "      <td>NaN</td>\n",
       "      <td>NaN</td>\n",
       "      <td>NaN</td>\n",
       "      <td>NaN</td>\n",
       "      <td>#alnmember #zambiadecides2021 #time4change #fa...</td>\n",
       "    </tr>\n",
       "    <tr>\n",
       "      <th>keyword_exists</th>\n",
       "      <td>NaN</td>\n",
       "      <td>NaN</td>\n",
       "      <td>NaN</td>\n",
       "      <td>NaN</td>\n",
       "      <td>True</td>\n",
       "    </tr>\n",
       "    <tr>\n",
       "      <th>prep_text</th>\n",
       "      <td>opposition independent mp move bill 10oppositi...</td>\n",
       "      <td>zed voting card time make decision got ta feas...</td>\n",
       "      <td>doe inspection verification done anywhere wa d...</td>\n",
       "      <td>commissioner prison opposition party permitted...</td>\n",
       "      <td>good luck capable leadership president vice pr...</td>\n",
       "    </tr>\n",
       "    <tr>\n",
       "      <th>year</th>\n",
       "      <td>2020</td>\n",
       "      <td>2021</td>\n",
       "      <td>2021</td>\n",
       "      <td>2020</td>\n",
       "      <td>2021</td>\n",
       "    </tr>\n",
       "    <tr>\n",
       "      <th>month</th>\n",
       "      <td>1</td>\n",
       "      <td>8</td>\n",
       "      <td>2</td>\n",
       "      <td>7</td>\n",
       "      <td>8</td>\n",
       "    </tr>\n",
       "    <tr>\n",
       "      <th>day</th>\n",
       "      <td>21</td>\n",
       "      <td>10</td>\n",
       "      <td>5</td>\n",
       "      <td>6</td>\n",
       "      <td>11</td>\n",
       "    </tr>\n",
       "    <tr>\n",
       "      <th>week</th>\n",
       "      <td>4.0</td>\n",
       "      <td>32.0</td>\n",
       "      <td>5.0</td>\n",
       "      <td>28.0</td>\n",
       "      <td>32.0</td>\n",
       "    </tr>\n",
       "    <tr>\n",
       "      <th>time</th>\n",
       "      <td>20:34:55</td>\n",
       "      <td>09:00:12</td>\n",
       "      <td>10:21:39</td>\n",
       "      <td>11:49:14</td>\n",
       "      <td>14:16:21</td>\n",
       "    </tr>\n",
       "    <tr>\n",
       "      <th>hour</th>\n",
       "      <td>20.0</td>\n",
       "      <td>9.0</td>\n",
       "      <td>10.0</td>\n",
       "      <td>11.0</td>\n",
       "      <td>14.0</td>\n",
       "    </tr>\n",
       "    <tr>\n",
       "      <th>minute</th>\n",
       "      <td>34.0</td>\n",
       "      <td>0.0</td>\n",
       "      <td>21.0</td>\n",
       "      <td>49.0</td>\n",
       "      <td>16.0</td>\n",
       "    </tr>\n",
       "    <tr>\n",
       "      <th>vader_polarity</th>\n",
       "      <td>Neutral</td>\n",
       "      <td>Positive</td>\n",
       "      <td>Neutral</td>\n",
       "      <td>Neutral</td>\n",
       "      <td>Positive</td>\n",
       "    </tr>\n",
       "    <tr>\n",
       "      <th>bert_polarity</th>\n",
       "      <td>Neutral</td>\n",
       "      <td>Positive</td>\n",
       "      <td>Neutral</td>\n",
       "      <td>Negative</td>\n",
       "      <td>Positive</td>\n",
       "    </tr>\n",
       "    <tr>\n",
       "      <th>date</th>\n",
       "      <td>2020-01-21 20:34:55+02:00</td>\n",
       "      <td>2021-08-10 09:00:12+02:00</td>\n",
       "      <td>2021-02-05 10:21:39+02:00</td>\n",
       "      <td>2020-07-06 11:49:14+02:00</td>\n",
       "      <td>2021-08-11 14:16:21+02:00</td>\n",
       "    </tr>\n",
       "    <tr>\n",
       "      <th>city</th>\n",
       "      <td>NaN</td>\n",
       "      <td>NaN</td>\n",
       "      <td>NaN</td>\n",
       "      <td>NaN</td>\n",
       "      <td>NaN</td>\n",
       "    </tr>\n",
       "    <tr>\n",
       "      <th>district</th>\n",
       "      <td>NaN</td>\n",
       "      <td>NaN</td>\n",
       "      <td>NaN</td>\n",
       "      <td>NaN</td>\n",
       "      <td>NaN</td>\n",
       "    </tr>\n",
       "    <tr>\n",
       "      <th>province</th>\n",
       "      <td>NaN</td>\n",
       "      <td>NaN</td>\n",
       "      <td>NaN</td>\n",
       "      <td>NaN</td>\n",
       "      <td>NaN</td>\n",
       "    </tr>\n",
       "    <tr>\n",
       "      <th>country</th>\n",
       "      <td>Zambia</td>\n",
       "      <td>Zambia</td>\n",
       "      <td>Zambia</td>\n",
       "      <td>NaN</td>\n",
       "      <td>Africa</td>\n",
       "    </tr>\n",
       "    <tr>\n",
       "      <th>quater</th>\n",
       "      <td>1</td>\n",
       "      <td>3</td>\n",
       "      <td>1</td>\n",
       "      <td>3</td>\n",
       "      <td>3</td>\n",
       "    </tr>\n",
       "    <tr>\n",
       "      <th>weekday</th>\n",
       "      <td>Tuesday</td>\n",
       "      <td>Tuesday</td>\n",
       "      <td>Friday</td>\n",
       "      <td>Monday</td>\n",
       "      <td>Wednesday</td>\n",
       "    </tr>\n",
       "    <tr>\n",
       "      <th>tweet_lang</th>\n",
       "      <td>en</td>\n",
       "      <td>en</td>\n",
       "      <td>en</td>\n",
       "      <td>en</td>\n",
       "      <td>en</td>\n",
       "    </tr>\n",
       "  </tbody>\n",
       "</table>\n",
       "</div>"
      ],
      "text/plain": [
       "                                                             17973  \\\n",
       "id                                                           69839   \n",
       "tweet_id                                       1219689849785143297   \n",
       "username                                           Peter_S_Becks94   \n",
       "followers_count                                             1477.0   \n",
       "user_verified                                                False   \n",
       "text             Opposition and independent MPs shouldn't move ...   \n",
       "created_at                               2020-01-21 20:34:55+02:00   \n",
       "like_count                                                     1.0   \n",
       "retweet_count                                                  1.0   \n",
       "reply_count                                                    0.0   \n",
       "location                                                    Zambia   \n",
       "lang                                                            en   \n",
       "generation                                                     1.0   \n",
       "ass_hashtags                                                   NaN   \n",
       "keyword_exists                                                 NaN   \n",
       "prep_text        opposition independent mp move bill 10oppositi...   \n",
       "year                                                          2020   \n",
       "month                                                            1   \n",
       "day                                                             21   \n",
       "week                                                           4.0   \n",
       "time                                                      20:34:55   \n",
       "hour                                                          20.0   \n",
       "minute                                                        34.0   \n",
       "vader_polarity                                             Neutral   \n",
       "bert_polarity                                              Neutral   \n",
       "date                                     2020-01-21 20:34:55+02:00   \n",
       "city                                                           NaN   \n",
       "district                                                       NaN   \n",
       "province                                                       NaN   \n",
       "country                                                     Zambia   \n",
       "quater                                                           1   \n",
       "weekday                                                    Tuesday   \n",
       "tweet_lang                                                      en   \n",
       "\n",
       "                                                             4164   \\\n",
       "id                                                           11533   \n",
       "tweet_id                                       1424988939736264715   \n",
       "username                                              HungryLionZM   \n",
       "followers_count                                            16023.0   \n",
       "user_verified                                                False   \n",
       "text             Zed, where is your voting card? It's time to m...   \n",
       "created_at                               2021-08-10 09:00:12+02:00   \n",
       "like_count                                                   102.0   \n",
       "retweet_count                                                 17.0   \n",
       "reply_count                                                    9.0   \n",
       "location                                                    Zambia   \n",
       "lang                                                            en   \n",
       "generation                                                     1.0   \n",
       "ass_hashtags                                                   NaN   \n",
       "keyword_exists                                                 NaN   \n",
       "prep_text        zed voting card time make decision got ta feas...   \n",
       "year                                                          2021   \n",
       "month                                                            8   \n",
       "day                                                             10   \n",
       "week                                                          32.0   \n",
       "time                                                      09:00:12   \n",
       "hour                                                           9.0   \n",
       "minute                                                         0.0   \n",
       "vader_polarity                                            Positive   \n",
       "bert_polarity                                             Positive   \n",
       "date                                     2021-08-10 09:00:12+02:00   \n",
       "city                                                           NaN   \n",
       "district                                                       NaN   \n",
       "province                                                       NaN   \n",
       "country                                                     Zambia   \n",
       "quater                                                           3   \n",
       "weekday                                                    Tuesday   \n",
       "tweet_lang                                                      en   \n",
       "\n",
       "                                                             13454  \\\n",
       "id                                                           64989   \n",
       "tweet_id                                       1357605294344462337   \n",
       "username                                                   RHaloba   \n",
       "followers_count                                              129.0   \n",
       "user_verified                                                False   \n",
       "text             @ZambiaElections @Mulenga09820858 Does the ins...   \n",
       "created_at                               2021-02-05 10:21:39+02:00   \n",
       "like_count                                                     0.0   \n",
       "retweet_count                                                  0.0   \n",
       "reply_count                                                    1.0   \n",
       "location                                                    Zambia   \n",
       "lang                                                            en   \n",
       "generation                                                     1.0   \n",
       "ass_hashtags                                                   NaN   \n",
       "keyword_exists                                                 NaN   \n",
       "prep_text        doe inspection verification done anywhere wa d...   \n",
       "year                                                          2021   \n",
       "month                                                            2   \n",
       "day                                                              5   \n",
       "week                                                           5.0   \n",
       "time                                                      10:21:39   \n",
       "hour                                                          10.0   \n",
       "minute                                                        21.0   \n",
       "vader_polarity                                             Neutral   \n",
       "bert_polarity                                              Neutral   \n",
       "date                                     2021-02-05 10:21:39+02:00   \n",
       "city                                                           NaN   \n",
       "district                                                       NaN   \n",
       "province                                                       NaN   \n",
       "country                                                     Zambia   \n",
       "quater                                                           1   \n",
       "weekday                                                     Friday   \n",
       "tweet_lang                                                      en   \n",
       "\n",
       "                                                             16190  \\\n",
       "id                                                           67883   \n",
       "tweet_id                                       1280076329334030337   \n",
       "username                                           MonicaEisenberg   \n",
       "followers_count                                            10776.0   \n",
       "user_verified                                                False   \n",
       "text             Commissioner of Prisons says Opposition partie...   \n",
       "created_at                               2020-07-06 11:49:14+02:00   \n",
       "like_count                                                     0.0   \n",
       "retweet_count                                                  0.0   \n",
       "reply_count                                                    0.0   \n",
       "location         Nanno, Ville d'Anaunia, Comunità della Val di ...   \n",
       "lang                                                            en   \n",
       "generation                                                     1.0   \n",
       "ass_hashtags                                                   NaN   \n",
       "keyword_exists                                                 NaN   \n",
       "prep_text        commissioner prison opposition party permitted...   \n",
       "year                                                          2020   \n",
       "month                                                            7   \n",
       "day                                                              6   \n",
       "week                                                          28.0   \n",
       "time                                                      11:49:14   \n",
       "hour                                                          11.0   \n",
       "minute                                                        49.0   \n",
       "vader_polarity                                             Neutral   \n",
       "bert_polarity                                             Negative   \n",
       "date                                     2020-07-06 11:49:14+02:00   \n",
       "city                                                           NaN   \n",
       "district                                                       NaN   \n",
       "province                                                       NaN   \n",
       "country                                                        NaN   \n",
       "quater                                                           3   \n",
       "weekday                                                     Monday   \n",
       "tweet_lang                                                      en   \n",
       "\n",
       "                                                             260    \n",
       "id                                                           11097  \n",
       "tweet_id                                       1425430886129020930  \n",
       "username                                           AfricanLiberals  \n",
       "followers_count                                             3437.0  \n",
       "user_verified                                                False  \n",
       "text             Good luck to our #ALNmember, @UPNDZM under the...  \n",
       "created_at                                  2021-08-11 14:16:21+02  \n",
       "like_count                                                    55.0  \n",
       "retweet_count                                                 10.0  \n",
       "reply_count                                                    1.0  \n",
       "location                                                    Africa  \n",
       "lang                                                            en  \n",
       "generation                                                     1.0  \n",
       "ass_hashtags     #alnmember #zambiadecides2021 #time4change #fa...  \n",
       "keyword_exists                                                True  \n",
       "prep_text        good luck capable leadership president vice pr...  \n",
       "year                                                          2021  \n",
       "month                                                            8  \n",
       "day                                                             11  \n",
       "week                                                          32.0  \n",
       "time                                                      14:16:21  \n",
       "hour                                                          14.0  \n",
       "minute                                                        16.0  \n",
       "vader_polarity                                            Positive  \n",
       "bert_polarity                                             Positive  \n",
       "date                                     2021-08-11 14:16:21+02:00  \n",
       "city                                                           NaN  \n",
       "district                                                       NaN  \n",
       "province                                                       NaN  \n",
       "country                                                     Africa  \n",
       "quater                                                           3  \n",
       "weekday                                                  Wednesday  \n",
       "tweet_lang                                                      en  "
      ]
     },
     "execution_count": 6,
     "metadata": {},
     "output_type": "execute_result"
    }
   ],
   "source": [
    "df.sample(5).T"
   ]
  },
  {
   "cell_type": "markdown",
   "id": "c00ef851",
   "metadata": {},
   "source": [
    "## Tweet Volume"
   ]
  },
  {
   "cell_type": "markdown",
   "id": "79a9df93",
   "metadata": {},
   "source": [
    "### Yearly Distribution of Tweets"
   ]
  },
  {
   "cell_type": "code",
   "execution_count": 7,
   "id": "2015aeef",
   "metadata": {},
   "outputs": [
    {
     "data": {
      "text/plain": [
       "{'2021': 10112,\n",
       " '2020': 6410,\n",
       " '2019': 1211,\n",
       " '2018': 1532,\n",
       " '2017': 759,\n",
       " '2016': 1074}"
      ]
     },
     "execution_count": 7,
     "metadata": {},
     "output_type": "execute_result"
    }
   ],
   "source": [
    "lst_year = list(df['year'].unique())\n",
    "dict_year = {}\n",
    "\n",
    "for y in lst_year:\n",
    "    count = df.query(\"year == '{}'\".format(y)).shape[0]\n",
    "    dict_year[y] = count\n",
    "\n",
    "dict_year"
   ]
  },
  {
   "cell_type": "code",
   "execution_count": 8,
   "id": "bd2f103f",
   "metadata": {},
   "outputs": [
    {
     "data": {
      "image/png": "[encoded data removed]",
      "text/plain": [
       "<Figure size 640x480 with 1 Axes>"
      ]
     },
     "metadata": {},
     "output_type": "display_data"
    }
   ],
   "source": [
    "plt.bar(range(len(dict_year.keys())), dict_year.values())\n",
    "plt.title(\"Yearly Distribution of Tweets\")\n",
    "plt.ylabel(\"No. of Tweets\")\n",
    "plt.xticks(range(len(dict_year.keys())), dict_year.keys())\n",
    "plt.show()"
   ]
  },
  {
   "cell_type": "markdown",
   "id": "344626fd",
   "metadata": {},
   "source": [
    "### Quarterly Tweet Volume"
   ]
  },
  {
   "cell_type": "code",
   "execution_count": 9,
   "id": "dc39c487",
   "metadata": {},
   "outputs": [],
   "source": [
    "def get_tweets_per_quarter(year,quarter):\n",
    "    x = df.query(\"year == '{}' and quater == '{}'\".format(year,quarter))\n",
    "    return x.shape[0]"
   ]
  },
  {
   "cell_type": "code",
   "execution_count": 64,
   "id": "f92430b7",
   "metadata": {},
   "outputs": [],
   "source": [
    "lst_years = list(df['year'].unique())\n",
    "lst_quater = list(df['quater'].unique())\n",
    "dict_count_tweets = {}\n",
    "\n",
    "for y in lst_years:\n",
    "    for q in lst_quater:\n",
    "        count = get_tweets_per_quarter(y,q)\n",
    "        dict_id = 'yr'+y+\"_qr\"+q\n",
    "        dict_count_tweets[dict_id] = {\n",
    "            'year' : y,\n",
    "            'quarter': q,\n",
    "            'count' : count\n",
    "        }\n",
    "        #print(\"Year {}, Quarter {} has {}  tweets\".format(y,q,count))\n"
   ]
  },
  {
   "cell_type": "markdown",
   "id": "e217ed32",
   "metadata": {},
   "source": [
    "### Month Tweet Distribution"
   ]
  },
  {
   "cell_type": "code",
   "execution_count": 11,
   "id": "7bf25434",
   "metadata": {},
   "outputs": [],
   "source": [
    "import calendar\n",
    "\n",
    "def convert_number_to_month(num):\n",
    "    return calendar.month_name[int(num)]\n",
    "\n",
    "df['month_text'] = df['month'].apply(convert_number_to_month)\n",
    "\n",
    "def get_tweets_per_month(year,month_text):\n",
    "    x = df.query(\" year == '{}' and month_text == '{}'\".format(year,month_text))\n",
    "    return x.shape[0]"
   ]
  },
  {
   "cell_type": "code",
   "execution_count": 12,
   "id": "95080433",
   "metadata": {},
   "outputs": [
    {
     "data": {
      "text/plain": [
       "4739"
      ]
     },
     "execution_count": 12,
     "metadata": {},
     "output_type": "execute_result"
    }
   ],
   "source": [
    "get_tweets_per_month(2021,\"August\")"
   ]
  },
  {
   "cell_type": "code",
   "execution_count": 13,
   "id": "385399eb",
   "metadata": {},
   "outputs": [
    {
     "data": {
      "text/plain": [
       "(72, 3)"
      ]
     },
     "execution_count": 13,
     "metadata": {},
     "output_type": "execute_result"
    }
   ],
   "source": [
    "lst_years = list(df['year'].unique())\n",
    "lst_month_text = list(df['month_text'].unique())\n",
    "lst_months_tweets = []\n",
    "\n",
    "for y in lst_years:\n",
    "    for m in lst_month_text:\n",
    "        count = get_tweets_per_month(y,m)\n",
    "        lst_months_tweets.append((y,m,count))\n",
    "        \n",
    "lst_months_tweets.sort(key = lambda i:i[2], reverse = True)\n",
    "pd.DataFrame(lst_months_tweets,columns=[\"year\",\"month\",\"count\"]).shape"
   ]
  },
  {
   "cell_type": "code",
   "execution_count": 14,
   "id": "8e6c3109",
   "metadata": {},
   "outputs": [
    {
     "name": "stdout",
     "output_type": "stream",
     "text": [
      "1697643649.xlsx has been saved\n"
     ]
    }
   ],
   "source": [
    "save(pd.DataFrame(lst_months_tweets,columns=[\"year\",\"month\",\"count\"]))"
   ]
  },
  {
   "cell_type": "code",
   "execution_count": 15,
   "id": "cbd9789e",
   "metadata": {},
   "outputs": [
    {
     "data": {
      "text/plain": [
       "('2021', 'August', 4739)"
      ]
     },
     "execution_count": 15,
     "metadata": {},
     "output_type": "execute_result"
    }
   ],
   "source": [
    "max(lst_months_tweets, key=lambda tup: tup[2])"
   ]
  },
  {
   "cell_type": "code",
   "execution_count": 16,
   "id": "6859860d",
   "metadata": {},
   "outputs": [
    {
     "data": {
      "text/plain": [
       "[('August', 5382),\n",
       " ('May', 1291),\n",
       " ('December', 1417),\n",
       " ('July', 2462),\n",
       " ('June', 1940),\n",
       " ('April', 925),\n",
       " ('March', 1126),\n",
       " ('February', 1086),\n",
       " ('January', 1666),\n",
       " ('November', 1402),\n",
       " ('October', 993),\n",
       " ('September', 1408)]"
      ]
     },
     "execution_count": 16,
     "metadata": {},
     "output_type": "execute_result"
    }
   ],
   "source": [
    "lst_month = list(df['month_text'].unique())\n",
    "lst_months_tweets = []\n",
    "\n",
    "for m in lst_month:\n",
    "    count = df.query(\"month_text == '{}'\".format(m)).shape[0]\n",
    "    lst_months_tweets.append((m,count))\n",
    "\n",
    "lst_months_tweets"
   ]
  },
  {
   "cell_type": "code",
   "execution_count": 17,
   "id": "2b5ea319",
   "metadata": {},
   "outputs": [
    {
     "data": {
      "text/plain": [
       "('August', 5382)"
      ]
     },
     "execution_count": 17,
     "metadata": {},
     "output_type": "execute_result"
    }
   ],
   "source": [
    "lst_months_tweets[0]"
   ]
  },
  {
   "cell_type": "markdown",
   "id": "fea5cbf5",
   "metadata": {},
   "source": [
    "### Weekday Tweet Distribution"
   ]
  },
  {
   "cell_type": "code",
   "execution_count": 18,
   "id": "ee49bfeb",
   "metadata": {},
   "outputs": [],
   "source": [
    "def get_tweets_per_week(year,week_num):\n",
    "    week_num = float(week_num)\n",
    "    x = df.query(\" year == '{}' and week == '{}'\".format(year,week_num))\n",
    "    return x.shape[0]"
   ]
  },
  {
   "cell_type": "code",
   "execution_count": 19,
   "id": "66783285",
   "metadata": {},
   "outputs": [
    {
     "data": {
      "text/html": [
       "<div>\n",
       "<style scoped>\n",
       "    .dataframe tbody tr th:only-of-type {\n",
       "        vertical-align: middle;\n",
       "    }\n",
       "\n",
       "    .dataframe tbody tr th {\n",
       "        vertical-align: top;\n",
       "    }\n",
       "\n",
       "    .dataframe thead th {\n",
       "        text-align: right;\n",
       "    }\n",
       "</style>\n",
       "<table border=\"1\" class=\"dataframe\">\n",
       "  <thead>\n",
       "    <tr style=\"text-align: right;\">\n",
       "      <th></th>\n",
       "      <th>year</th>\n",
       "      <th>week</th>\n",
       "      <th>count</th>\n",
       "    </tr>\n",
       "  </thead>\n",
       "  <tbody>\n",
       "    <tr>\n",
       "      <th>0</th>\n",
       "      <td>2021</td>\n",
       "      <td>32</td>\n",
       "      <td>2634</td>\n",
       "    </tr>\n",
       "    <tr>\n",
       "      <th>1</th>\n",
       "      <td>2021</td>\n",
       "      <td>31</td>\n",
       "      <td>1927</td>\n",
       "    </tr>\n",
       "    <tr>\n",
       "      <th>2</th>\n",
       "      <td>2021</td>\n",
       "      <td>30</td>\n",
       "      <td>653</td>\n",
       "    </tr>\n",
       "    <tr>\n",
       "      <th>3</th>\n",
       "      <td>2016</td>\n",
       "      <td>51</td>\n",
       "      <td>526</td>\n",
       "    </tr>\n",
       "    <tr>\n",
       "      <th>4</th>\n",
       "      <td>2020</td>\n",
       "      <td>46</td>\n",
       "      <td>496</td>\n",
       "    </tr>\n",
       "  </tbody>\n",
       "</table>\n",
       "</div>"
      ],
      "text/plain": [
       "   year  week  count\n",
       "0  2021    32   2634\n",
       "1  2021    31   1927\n",
       "2  2021    30    653\n",
       "3  2016    51    526\n",
       "4  2020    46    496"
      ]
     },
     "execution_count": 19,
     "metadata": {},
     "output_type": "execute_result"
    }
   ],
   "source": [
    "lst_years = list(df['year'].unique())\n",
    "lst_weeks = list(df['week'].unique())\n",
    "lst_week_tweets = []\n",
    "\n",
    "for y in lst_years:\n",
    "    for w in lst_weeks:\n",
    "        count = get_tweets_per_week(y,w)\n",
    "        w = int(float(w))\n",
    "        lst_week_tweets.append((y,w,count))\n",
    "\n",
    "lst_week_tweets.sort(key = lambda i:i[2], reverse = True)\n",
    "temp = pd.DataFrame(lst_week_tweets,columns=[\"year\",\"week\",\"count\"])\n",
    "#save(temp)\n",
    "temp.head(5)\n"
   ]
  },
  {
   "cell_type": "code",
   "execution_count": 20,
   "id": "63872f8b",
   "metadata": {},
   "outputs": [
    {
     "data": {
      "text/plain": [
       "{'Friday': 2948,\n",
       " 'Wednesday': 4405,\n",
       " 'Tuesday': 3494,\n",
       " 'Monday': 3409,\n",
       " 'Sunday': 1971,\n",
       " 'Saturday': 2040,\n",
       " 'Thursday': 2831}"
      ]
     },
     "execution_count": 20,
     "metadata": {},
     "output_type": "execute_result"
    }
   ],
   "source": [
    "lst_weekdays = list(df['weekday'].unique())\n",
    "dict_weekday = {}\n",
    "for w in lst_weekdays:\n",
    "    count = df.query(\"weekday == '{}'\".format(w)).shape[0]\n",
    "    dict_weekday[w] = count\n",
    "\n",
    "dict_weekday"
   ]
  },
  {
   "cell_type": "markdown",
   "id": "870735d3",
   "metadata": {},
   "source": [
    "### Daily Tweet Distribution"
   ]
  },
  {
   "cell_type": "code",
   "execution_count": 21,
   "id": "bcf4cee3",
   "metadata": {},
   "outputs": [
    {
     "data": {
      "text/plain": [
       "18587    2019-10-23\n",
       "8835     2020-10-17\n",
       "14357    2020-11-10\n",
       "15349    2020-09-21\n",
       "5778     2020-09-18\n",
       "Name: date, dtype: object"
      ]
     },
     "execution_count": 21,
     "metadata": {},
     "output_type": "execute_result"
    }
   ],
   "source": [
    "df['date']=pd.to_datetime(df['created_at']).dt.date\n",
    "df.date.sample(5)"
   ]
  },
  {
   "cell_type": "code",
   "execution_count": 22,
   "id": "28608f74",
   "metadata": {},
   "outputs": [
    {
     "data": {
      "text/plain": [
       "0    2013-01-01\n",
       "Name: date, dtype: object"
      ]
     },
     "execution_count": 22,
     "metadata": {},
     "output_type": "execute_result"
    }
   ],
   "source": [
    "date_str = \"2013-01-01\"\n",
    "temp_df = pd.DataFrame({\"date\": [date_str]})\n",
    "pd.to_datetime(temp_df['date']).dt.date"
   ]
  },
  {
   "cell_type": "code",
   "execution_count": 23,
   "id": "608b58a1",
   "metadata": {},
   "outputs": [
    {
     "data": {
      "text/plain": [
       "229"
      ]
     },
     "execution_count": 23,
     "metadata": {},
     "output_type": "execute_result"
    }
   ],
   "source": [
    "#Date format (yyyy-mm-dd)\n",
    "\"\"\"def get_tweets_per_day(date_str):\n",
    "    temp_df = pd.DataFrame({\"date\": [date_str]})\n",
    "    date = pd.to_datetime(temp_df['date']).dt.date[0]\n",
    "    return df.loc[(df['date']==date)].shape[0]\"\"\"\n",
    "\n",
    "def get_tweets_per_day(year,month,day):\n",
    "    x = df.query(\"year == '{}' and month == '{}' and day == '{}'\".format(year,month,day))\n",
    "    return x.shape[0]\n",
    "\n",
    "get_tweets_per_day(2021,8,7)"
   ]
  },
  {
   "cell_type": "code",
   "execution_count": 24,
   "id": "d7f9c717",
   "metadata": {},
   "outputs": [],
   "source": [
    "def get_str_date(date_obj):\n",
    "    return date_obj.strftime(\"%Y-%m-%d\")\n",
    "\n",
    "df['date_str'] = df['date'].apply(get_str_date)"
   ]
  },
  {
   "cell_type": "code",
   "execution_count": 26,
   "id": "91030d0f",
   "metadata": {},
   "outputs": [
    {
     "data": {
      "text/html": [
       "<div>\n",
       "<style scoped>\n",
       "    .dataframe tbody tr th:only-of-type {\n",
       "        vertical-align: middle;\n",
       "    }\n",
       "\n",
       "    .dataframe tbody tr th {\n",
       "        vertical-align: top;\n",
       "    }\n",
       "\n",
       "    .dataframe thead th {\n",
       "        text-align: right;\n",
       "    }\n",
       "</style>\n",
       "<table border=\"1\" class=\"dataframe\">\n",
       "  <thead>\n",
       "    <tr style=\"text-align: right;\">\n",
       "      <th></th>\n",
       "      <th>year</th>\n",
       "      <th>month</th>\n",
       "      <th>day</th>\n",
       "      <th>count</th>\n",
       "    </tr>\n",
       "  </thead>\n",
       "  <tbody>\n",
       "    <tr>\n",
       "      <th>0</th>\n",
       "      <td>2021</td>\n",
       "      <td>8</td>\n",
       "      <td>11</td>\n",
       "      <td>1469</td>\n",
       "    </tr>\n",
       "    <tr>\n",
       "      <th>1</th>\n",
       "      <td>2021</td>\n",
       "      <td>8</td>\n",
       "      <td>10</td>\n",
       "      <td>724</td>\n",
       "    </tr>\n",
       "    <tr>\n",
       "      <th>2</th>\n",
       "      <td>2016</td>\n",
       "      <td>12</td>\n",
       "      <td>19</td>\n",
       "      <td>517</td>\n",
       "    </tr>\n",
       "    <tr>\n",
       "      <th>3</th>\n",
       "      <td>2021</td>\n",
       "      <td>8</td>\n",
       "      <td>9</td>\n",
       "      <td>441</td>\n",
       "    </tr>\n",
       "    <tr>\n",
       "      <th>4</th>\n",
       "      <td>2021</td>\n",
       "      <td>8</td>\n",
       "      <td>6</td>\n",
       "      <td>356</td>\n",
       "    </tr>\n",
       "  </tbody>\n",
       "</table>\n",
       "</div>"
      ],
      "text/plain": [
       "   year month day  count\n",
       "0  2021     8  11   1469\n",
       "1  2021     8  10    724\n",
       "2  2016    12  19    517\n",
       "3  2021     8   9    441\n",
       "4  2021     8   6    356"
      ]
     },
     "execution_count": 26,
     "metadata": {},
     "output_type": "execute_result"
    }
   ],
   "source": [
    "lst_years = df['year'].unique()\n",
    "lst_months = df['month'].unique()\n",
    "lst_days = df['day'].unique()\n",
    "\n",
    "lst_day_tweets = []\n",
    "\n",
    "for y in lst_years:\n",
    "    for m in lst_months:\n",
    "        for d in lst_days:\n",
    "            count = get_tweets_per_day(y,m,d)\n",
    "            lst_day_tweets.append((y,m,d,count))\n",
    "            \n",
    "lst_day_tweets.sort(key = lambda i:i[3], reverse = True)\n",
    "temp = pd.DataFrame(lst_day_tweets,columns=[\"year\",\"month\",\"day\",\"count\"])\n",
    "#save(temp)\n",
    "temp.head(5)"
   ]
  },
  {
   "cell_type": "code",
   "execution_count": 27,
   "id": "705fe5c8",
   "metadata": {},
   "outputs": [
    {
     "name": "stdout",
     "output_type": "stream",
     "text": [
      "1697643688.xlsx has been saved\n"
     ]
    }
   ],
   "source": [
    "temp = df.value_counts(subset=['date_str'])\n",
    "temp_df = pd.DataFrame(list(zip([t[0] for t in temp.index],list(temp.values))), columns = [\"date\",\"count\"])\n",
    "save(temp_df)"
   ]
  },
  {
   "cell_type": "code",
   "execution_count": 28,
   "id": "b70099e2",
   "metadata": {},
   "outputs": [
    {
     "data": {
      "text/plain": [
       "13"
      ]
     },
     "execution_count": 28,
     "metadata": {},
     "output_type": "execute_result"
    }
   ],
   "source": [
    "#dailly tweet mean\n",
    "int(temp_df['count'].mean())"
   ]
  },
  {
   "cell_type": "code",
   "execution_count": null,
   "id": "e9883da6",
   "metadata": {},
   "outputs": [],
   "source": []
  },
  {
   "cell_type": "markdown",
   "id": "99acee3c",
   "metadata": {},
   "source": [
    "# Country based Dsitribution"
   ]
  },
  {
   "cell_type": "code",
   "execution_count": 29,
   "id": "6fc8027d",
   "metadata": {},
   "outputs": [
    {
     "data": {
      "text/plain": [
       "(101, 2)"
      ]
     },
     "execution_count": 29,
     "metadata": {},
     "output_type": "execute_result"
    }
   ],
   "source": [
    "temp = df.value_counts(subset=['country'])\n",
    "#temp['country'] = temp['country'].replace(['Africa'], 'Other')\n",
    "temp_df = pd.DataFrame(zip([t[0] for t in temp.index],temp.values), columns = [\"country\",\"count\"])\n",
    "temp_df.shape"
   ]
  },
  {
   "cell_type": "code",
   "execution_count": 30,
   "id": "a5747d66",
   "metadata": {},
   "outputs": [
    {
     "data": {
      "text/html": [
       "<div>\n",
       "<style scoped>\n",
       "    .dataframe tbody tr th:only-of-type {\n",
       "        vertical-align: middle;\n",
       "    }\n",
       "\n",
       "    .dataframe tbody tr th {\n",
       "        vertical-align: top;\n",
       "    }\n",
       "\n",
       "    .dataframe thead th {\n",
       "        text-align: right;\n",
       "    }\n",
       "</style>\n",
       "<table border=\"1\" class=\"dataframe\">\n",
       "  <thead>\n",
       "    <tr style=\"text-align: right;\">\n",
       "      <th></th>\n",
       "      <th>country</th>\n",
       "      <th>count</th>\n",
       "    </tr>\n",
       "  </thead>\n",
       "  <tbody>\n",
       "    <tr>\n",
       "      <th>0</th>\n",
       "      <td>Zambia</td>\n",
       "      <td>10264</td>\n",
       "    </tr>\n",
       "    <tr>\n",
       "      <th>1</th>\n",
       "      <td>United States</td>\n",
       "      <td>559</td>\n",
       "    </tr>\n",
       "    <tr>\n",
       "      <th>2</th>\n",
       "      <td>South Africa</td>\n",
       "      <td>511</td>\n",
       "    </tr>\n",
       "    <tr>\n",
       "      <th>3</th>\n",
       "      <td>United Kingdom</td>\n",
       "      <td>371</td>\n",
       "    </tr>\n",
       "    <tr>\n",
       "      <th>4</th>\n",
       "      <td>Africa</td>\n",
       "      <td>346</td>\n",
       "    </tr>\n",
       "    <tr>\n",
       "      <th>5</th>\n",
       "      <td>Zimbabwe</td>\n",
       "      <td>345</td>\n",
       "    </tr>\n",
       "  </tbody>\n",
       "</table>\n",
       "</div>"
      ],
      "text/plain": [
       "          country  count\n",
       "0          Zambia  10264\n",
       "1   United States    559\n",
       "2    South Africa    511\n",
       "3  United Kingdom    371\n",
       "4          Africa    346\n",
       "5        Zimbabwe    345"
      ]
     },
     "execution_count": 30,
     "metadata": {},
     "output_type": "execute_result"
    }
   ],
   "source": [
    "temp_df.head(6)"
   ]
  },
  {
   "cell_type": "code",
   "execution_count": 31,
   "id": "63eab8a0",
   "metadata": {},
   "outputs": [
    {
     "data": {
      "text/plain": [
       "101"
      ]
     },
     "execution_count": 31,
     "metadata": {},
     "output_type": "execute_result"
    }
   ],
   "source": [
    "df['country'].nunique()"
   ]
  },
  {
   "cell_type": "code",
   "execution_count": 37,
   "id": "de81e315",
   "metadata": {},
   "outputs": [
    {
     "data": {
      "text/plain": [
       "(10264, 35)"
      ]
     },
     "execution_count": 37,
     "metadata": {},
     "output_type": "execute_result"
    }
   ],
   "source": [
    "df_zambian_tweets = df.query(\" country == '{}'\".format(\"Zambia\"))\n",
    "df_zambian_tweets.shape"
   ]
  },
  {
   "cell_type": "code",
   "execution_count": 48,
   "id": "5c6da540",
   "metadata": {},
   "outputs": [
    {
     "name": "stderr",
     "output_type": "stream",
     "text": [
      "/tmp/ipykernel_9514/3066072727.py:1: SettingWithCopyWarning: \n",
      "A value is trying to be set on a copy of a slice from a DataFrame\n",
      "\n",
      "See the caveats in the documentation: https://pandas.pydata.org/pandas-docs/stable/user_guide/indexing.html#returning-a-view-versus-a-copy\n",
      "  df_zambian_tweets[\"province\"].fillna(\"Not Specified\", inplace = True)\n",
      "/tmp/ipykernel_9514/3066072727.py:3: SettingWithCopyWarning: \n",
      "A value is trying to be set on a copy of a slice from a DataFrame.\n",
      "Try using .loc[row_indexer,col_indexer] = value instead\n",
      "\n",
      "See the caveats in the documentation: https://pandas.pydata.org/pandas-docs/stable/user_guide/indexing.html#returning-a-view-versus-a-copy\n",
      "  df_zambian_tweets['province'] = df_zambian_tweets['province'].replace(['Kapiri Mposhi District'], 'Central Province')\n",
      "/tmp/ipykernel_9514/3066072727.py:4: SettingWithCopyWarning: \n",
      "A value is trying to be set on a copy of a slice from a DataFrame.\n",
      "Try using .loc[row_indexer,col_indexer] = value instead\n",
      "\n",
      "See the caveats in the documentation: https://pandas.pydata.org/pandas-docs/stable/user_guide/indexing.html#returning-a-view-versus-a-copy\n",
      "  df_zambian_tweets['province'] = df_zambian_tweets['province'].replace(['Ndola District'], 'Copperbelt Province')\n",
      "/tmp/ipykernel_9514/3066072727.py:5: SettingWithCopyWarning: \n",
      "A value is trying to be set on a copy of a slice from a DataFrame.\n",
      "Try using .loc[row_indexer,col_indexer] = value instead\n",
      "\n",
      "See the caveats in the documentation: https://pandas.pydata.org/pandas-docs/stable/user_guide/indexing.html#returning-a-view-versus-a-copy\n",
      "  df_zambian_tweets['province'] = df_zambian_tweets['province'].replace(['Kitwe District'], 'Copperbelt Province')\n",
      "/tmp/ipykernel_9514/3066072727.py:6: SettingWithCopyWarning: \n",
      "A value is trying to be set on a copy of a slice from a DataFrame.\n",
      "Try using .loc[row_indexer,col_indexer] = value instead\n",
      "\n",
      "See the caveats in the documentation: https://pandas.pydata.org/pandas-docs/stable/user_guide/indexing.html#returning-a-view-versus-a-copy\n",
      "  df_zambian_tweets['province'] = df_zambian_tweets['province'].replace(['Lusaka District'], 'Lusaka Province')\n"
     ]
    },
    {
     "data": {
      "text/plain": [
       "(10264, 35)"
      ]
     },
     "execution_count": 48,
     "metadata": {},
     "output_type": "execute_result"
    }
   ],
   "source": [
    "df_zambian_tweets[\"province\"].fillna(\"Not Specified\", inplace = True)\n",
    "\n",
    "df_zambian_tweets['province'] = df_zambian_tweets['province'].replace(['Kapiri Mposhi District'], 'Central Province')\n",
    "df_zambian_tweets['province'] = df_zambian_tweets['province'].replace(['Ndola District'], 'Copperbelt Province')\n",
    "df_zambian_tweets['province'] = df_zambian_tweets['province'].replace(['Kitwe District'], 'Copperbelt Province')\n",
    "df_zambian_tweets['province'] = df_zambian_tweets['province'].replace(['Lusaka District'], 'Lusaka Province')\n",
    "\n",
    "#provinces = df_zambian_tweets['province'].unique()\n",
    "df_zambian_tweets.shape"
   ]
  },
  {
   "cell_type": "code",
   "execution_count": 49,
   "id": "3463f5e9",
   "metadata": {},
   "outputs": [
    {
     "data": {
      "text/plain": [
       "(11, 2)"
      ]
     },
     "execution_count": 49,
     "metadata": {},
     "output_type": "execute_result"
    }
   ],
   "source": [
    "temp = df_zambian_tweets.value_counts(subset=['province'])\n",
    "#temp['country'] = temp['country'].replace(['Africa'], 'Other')\n",
    "temp_df = pd.DataFrame(zip([t[0] for t in temp.index],temp.values), columns = [\"province\",\"count\"])\n",
    "temp_df.shape"
   ]
  },
  {
   "cell_type": "code",
   "execution_count": 50,
   "id": "220a7410",
   "metadata": {},
   "outputs": [
    {
     "data": {
      "text/plain": [
       "province              \n",
       "Lusaka Province           5056\n",
       "Not Specified             4132\n",
       "Copperbelt Province        732\n",
       "Southern Province          118\n",
       "Northern Province          112\n",
       "Central Province            39\n",
       "Eastern Province            23\n",
       "North-Western Province      23\n",
       "Western Province            12\n",
       "Muchinga Province           11\n",
       "Luapula Province             6\n",
       "dtype: int64"
      ]
     },
     "execution_count": 50,
     "metadata": {},
     "output_type": "execute_result"
    }
   ],
   "source": [
    "df_zambian_tweets.value_counts(subset=['province'])"
   ]
  },
  {
   "cell_type": "code",
   "execution_count": 41,
   "id": "5b59b10b",
   "metadata": {},
   "outputs": [
    {
     "name": "stdout",
     "output_type": "stream",
     "text": [
      "1697649461.xlsx has been saved\n"
     ]
    }
   ],
   "source": [
    "save(temp_df)"
   ]
  },
  {
   "cell_type": "markdown",
   "id": "fef5e985",
   "metadata": {},
   "source": [
    "### Followership  distrbution"
   ]
  },
  {
   "cell_type": "code",
   "execution_count": 52,
   "id": "7e84b282",
   "metadata": {},
   "outputs": [
    {
     "data": {
      "text/html": [
       "<div>\n",
       "<style scoped>\n",
       "    .dataframe tbody tr th:only-of-type {\n",
       "        vertical-align: middle;\n",
       "    }\n",
       "\n",
       "    .dataframe tbody tr th {\n",
       "        vertical-align: top;\n",
       "    }\n",
       "\n",
       "    .dataframe thead th {\n",
       "        text-align: right;\n",
       "    }\n",
       "</style>\n",
       "<table border=\"1\" class=\"dataframe\">\n",
       "  <thead>\n",
       "    <tr style=\"text-align: right;\">\n",
       "      <th></th>\n",
       "      <th>username</th>\n",
       "      <th>count</th>\n",
       "    </tr>\n",
       "  </thead>\n",
       "  <tbody>\n",
       "    <tr>\n",
       "      <th>0</th>\n",
       "      <td>ZMPolitics</td>\n",
       "      <td>1371</td>\n",
       "    </tr>\n",
       "    <tr>\n",
       "      <th>1</th>\n",
       "      <td>ZambiaElections</td>\n",
       "      <td>1187</td>\n",
       "    </tr>\n",
       "    <tr>\n",
       "      <th>2</th>\n",
       "      <td>Peter_S_Becks94</td>\n",
       "      <td>894</td>\n",
       "    </tr>\n",
       "    <tr>\n",
       "      <th>3</th>\n",
       "      <td>2021Zambian</td>\n",
       "      <td>562</td>\n",
       "    </tr>\n",
       "    <tr>\n",
       "      <th>4</th>\n",
       "      <td>Patlups</td>\n",
       "      <td>421</td>\n",
       "    </tr>\n",
       "  </tbody>\n",
       "</table>\n",
       "</div>"
      ],
      "text/plain": [
       "          username  count\n",
       "0       ZMPolitics   1371\n",
       "1  ZambiaElections   1187\n",
       "2  Peter_S_Becks94    894\n",
       "3      2021Zambian    562\n",
       "4          Patlups    421"
      ]
     },
     "execution_count": 52,
     "metadata": {},
     "output_type": "execute_result"
    }
   ],
   "source": [
    "temp = df.value_counts(subset=['username'])\n",
    "temp_df = pd.DataFrame(list(zip([t[0] for t in temp.index],list(temp.values))), columns = [\"username\",\"count\"])\n",
    "temp_df.head()"
   ]
  },
  {
   "cell_type": "code",
   "execution_count": 59,
   "id": "ec442bfe",
   "metadata": {},
   "outputs": [
    {
     "data": {
      "text/plain": [
       "9.0"
      ]
     },
     "execution_count": 59,
     "metadata": {},
     "output_type": "execute_result"
    }
   ],
   "source": [
    "#Top follower daily tweeting rate\n",
    "df_top_follower = df.query(\"username == '{}'\".format(\"ZMPolitics\"))\n",
    "lst_days = list(df_top_follower['date_str'].unique())\n",
    "tweet_rate =round(df_top_follower.shape[0]/ len(lst_days),0)\n",
    "tweet_rate"
   ]
  },
  {
   "cell_type": "code",
   "execution_count": 61,
   "id": "733a9e07",
   "metadata": {},
   "outputs": [
    {
     "data": {
      "text/plain": [
       "158"
      ]
     },
     "execution_count": 61,
     "metadata": {},
     "output_type": "execute_result"
    }
   ],
   "source": [
    "len(lst_days)"
   ]
  },
  {
   "cell_type": "code",
   "execution_count": 63,
   "id": "60ebf1a3",
   "metadata": {},
   "outputs": [
    {
     "data": {
      "text/plain": [
       "1371"
      ]
     },
     "execution_count": 63,
     "metadata": {},
     "output_type": "execute_result"
    }
   ],
   "source": [
    "round(df_top_follower.shape[0])"
   ]
  },
  {
   "cell_type": "code",
   "execution_count": 76,
   "id": "b099160e",
   "metadata": {},
   "outputs": [],
   "source": [
    "df_users = df['username'].unique()\n",
    "lst_user_tweet_pattern = []\n",
    "\n",
    "for u in df_users:\n",
    "    df_twitter = df.query(\"username == '{}'\".format(u))\n",
    "    lst_days = list(df_twitter['date_str'].unique())\n",
    "    tweet_rate =round(int(df_twitter.shape[0])/ len(lst_days),0)\n",
    "    \n",
    "    lst_user_tweet_pattern.append((u, str(len(lst_days)), str(df_twitter.shape[0]),str(tweet_rate)))\n"
   ]
  },
  {
   "cell_type": "code",
   "execution_count": 77,
   "id": "8cfdfa14",
   "metadata": {},
   "outputs": [
    {
     "data": {
      "text/html": [
       "<div>\n",
       "<style scoped>\n",
       "    .dataframe tbody tr th:only-of-type {\n",
       "        vertical-align: middle;\n",
       "    }\n",
       "\n",
       "    .dataframe tbody tr th {\n",
       "        vertical-align: top;\n",
       "    }\n",
       "\n",
       "    .dataframe thead th {\n",
       "        text-align: right;\n",
       "    }\n",
       "</style>\n",
       "<table border=\"1\" class=\"dataframe\">\n",
       "  <thead>\n",
       "    <tr style=\"text-align: right;\">\n",
       "      <th></th>\n",
       "      <th>username</th>\n",
       "      <th>num_days</th>\n",
       "      <th>num_tweets</th>\n",
       "      <th>tweet_avg</th>\n",
       "    </tr>\n",
       "  </thead>\n",
       "  <tbody>\n",
       "    <tr>\n",
       "      <th>0</th>\n",
       "      <td>LynneStactia</td>\n",
       "      <td>1</td>\n",
       "      <td>9</td>\n",
       "      <td>9.0</td>\n",
       "    </tr>\n",
       "    <tr>\n",
       "      <th>1</th>\n",
       "      <td>ZMPolitics</td>\n",
       "      <td>158</td>\n",
       "      <td>1371</td>\n",
       "      <td>9.0</td>\n",
       "    </tr>\n",
       "    <tr>\n",
       "      <th>2</th>\n",
       "      <td>mpelembe</td>\n",
       "      <td>5</td>\n",
       "      <td>38</td>\n",
       "      <td>8.0</td>\n",
       "    </tr>\n",
       "    <tr>\n",
       "      <th>3</th>\n",
       "      <td>Kamukwape</td>\n",
       "      <td>1</td>\n",
       "      <td>8</td>\n",
       "      <td>8.0</td>\n",
       "    </tr>\n",
       "    <tr>\n",
       "      <th>4</th>\n",
       "      <td>abel_fumpa</td>\n",
       "      <td>1</td>\n",
       "      <td>8</td>\n",
       "      <td>8.0</td>\n",
       "    </tr>\n",
       "  </tbody>\n",
       "</table>\n",
       "</div>"
      ],
      "text/plain": [
       "       username num_days num_tweets tweet_avg\n",
       "0  LynneStactia        1          9       9.0\n",
       "1    ZMPolitics      158       1371       9.0\n",
       "2      mpelembe        5         38       8.0\n",
       "3     Kamukwape        1          8       8.0\n",
       "4    abel_fumpa        1          8       8.0"
      ]
     },
     "execution_count": 77,
     "metadata": {},
     "output_type": "execute_result"
    }
   ],
   "source": [
    "lst_user_tweet_pattern.sort(key = lambda i:i[3], reverse = True)\n",
    "x = pd.DataFrame(lst_user_tweet_pattern,columns=[\"username\",\"num_days\",\"num_tweets\",\"tweet_avg\"])\n",
    "x.head()"
   ]
  },
  {
   "cell_type": "code",
   "execution_count": null,
   "id": "7283dd29",
   "metadata": {},
   "outputs": [],
   "source": []
  }
 ],
 "metadata": {
  "kernelspec": {
   "display_name": "Python 3 (ipykernel)",
   "language": "python",
   "name": "python3"
  },
  "language_info": {
   "codemirror_mode": {
    "name": "ipython",
    "version": 3
   },
   "file_extension": ".py",
   "mimetype": "text/x-python",
   "name": "python",
   "nbconvert_exporter": "python",
   "pygments_lexer": "ipython3",
   "version": "3.10.9"
  }
 },
 "nbformat": 4,
 "nbformat_minor": 5
}
